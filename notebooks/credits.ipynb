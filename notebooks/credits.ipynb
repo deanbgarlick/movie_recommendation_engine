{
 "cells": [
  {
   "cell_type": "code",
   "execution_count": 1,
   "metadata": {},
   "outputs": [],
   "source": [
    "import os\n",
    "import pandas as pd"
   ]
  },
  {
   "cell_type": "code",
   "execution_count": 2,
   "metadata": {},
   "outputs": [],
   "source": [
    "credits = pd.read_csv('data/credits.csv', nrows=10)"
   ]
  },
  {
   "cell_type": "code",
   "execution_count": 12,
   "metadata": {},
   "outputs": [
    {
     "data": {
      "text/plain": [
       "{'cast_id': 14,\n",
       " 'character': 'Woody (voice)',\n",
       " 'credit_id': '52fe4284c3a36847f8024f95',\n",
       " 'gender': 2,\n",
       " 'id': 31,\n",
       " 'name': 'Tom Hanks',\n",
       " 'order': 0,\n",
       " 'profile_path': '/pQFoyx7rp09CJTAb932F2g8Nlho.jpg'}"
      ]
     },
     "execution_count": 12,
     "metadata": {},
     "output_type": "execute_result"
    }
   ],
   "source": [
    "pd.Series(eval(credits.cast.loc[0])).loc[0]"
   ]
  },
  {
   "cell_type": "code",
   "execution_count": 19,
   "metadata": {},
   "outputs": [
    {
     "data": {
      "text/plain": [
       "0             Tom Hanks\n",
       "1             Tim Allen\n",
       "2           Don Rickles\n",
       "3            Jim Varney\n",
       "4         Wallace Shawn\n",
       "5     John Ratzenberger\n",
       "6           Annie Potts\n",
       "7           John Morris\n",
       "8       Erik von Detten\n",
       "9        Laurie Metcalf\n",
       "10         R. Lee Ermey\n",
       "11        Sarah Freeman\n",
       "12        Penn Jillette\n",
       "dtype: object"
      ]
     },
     "execution_count": 19,
     "metadata": {},
     "output_type": "execute_result"
    }
   ],
   "source": [
    "pd.Series(eval(credits.cast.loc[0])).apply(lambda x:x['name'])"
   ]
  },
  {
   "cell_type": "code",
   "execution_count": 13,
   "metadata": {},
   "outputs": [
    {
     "data": {
      "text/plain": [
       "{'credit_id': '52fe4284c3a36847f8024f49',\n",
       " 'department': 'Directing',\n",
       " 'gender': 2,\n",
       " 'id': 7879,\n",
       " 'job': 'Director',\n",
       " 'name': 'John Lasseter',\n",
       " 'profile_path': '/7EdqiNbr4FRjIhKHyPPdFfEEEFG.jpg'}"
      ]
     },
     "execution_count": 13,
     "metadata": {},
     "output_type": "execute_result"
    }
   ],
   "source": [
    "pd.Series(eval(credits.crew.loc[0])).loc[0]"
   ]
  },
  {
   "cell_type": "code",
   "execution_count": 16,
   "metadata": {},
   "outputs": [
    {
     "data": {
      "text/plain": [
       "array(['Directing', 'Writing', 'Production', 'Editing', 'Art', 'Sound',\n",
       "       'Visual Effects', 'Crew', 'Lighting'], dtype=object)"
      ]
     },
     "execution_count": 16,
     "metadata": {},
     "output_type": "execute_result"
    }
   ],
   "source": [
    "pd.Series(eval(credits.crew.loc[0])).apply(lambda x: x['department']).unique()"
   ]
  },
  {
   "cell_type": "code",
   "execution_count": 17,
   "metadata": {},
   "outputs": [
    {
     "data": {
      "text/plain": [
       "array(['Director', 'Screenplay', 'Producer', 'Executive Producer',\n",
       "       'Editor', 'Art Direction', 'Foley Editor', 'Animation',\n",
       "       'ADR Editor', 'Orchestrator', 'Color Timer', 'CG Painter',\n",
       "       'Original Story', 'Post Production Supervisor', 'Sculptor',\n",
       "       'Animation Director', 'Music', 'Layout', 'Music Editor',\n",
       "       'Negative Cutter', 'Title Designer',\n",
       "       'Supervising Technical Director', 'Songs', 'Supervising Animator',\n",
       "       'Sound Designer', 'Production Supervisor',\n",
       "       'Executive Music Producer', 'Visual Effects Supervisor',\n",
       "       'Visual Effects', 'Lighting Supervisor', 'Character Designer',\n",
       "       'Set Dresser', 'Editorial Manager', 'Assistant Editor',\n",
       "       'Editorial Coordinator', 'Production Coordinator',\n",
       "       'Unit Publicist', 'Sound Re-Recording Mixer',\n",
       "       'Supervising Sound Editor', 'Sound Effects Editor',\n",
       "       'Sound Design Assistant', 'Assistant Sound Editor',\n",
       "       'Casting Consultant', 'ADR Voice Casting'], dtype=object)"
      ]
     },
     "execution_count": 17,
     "metadata": {},
     "output_type": "execute_result"
    }
   ],
   "source": [
    "pd.Series(eval(credits.crew.loc[0])).apply(lambda x: x['job']).unique()"
   ]
  },
  {
   "cell_type": "code",
   "execution_count": 20,
   "metadata": {},
   "outputs": [
    {
     "data": {
      "text/plain": [
       "0         Robin Williams\n",
       "1          Jonathan Hyde\n",
       "2          Kirsten Dunst\n",
       "3         Bradley Pierce\n",
       "4            Bonnie Hunt\n",
       "5          Bebe Neuwirth\n",
       "6       David Alan Grier\n",
       "7      Patricia Clarkson\n",
       "8         Adam Hann-Byrd\n",
       "9       Laura Bell Bundy\n",
       "10           James Handy\n",
       "11        Gillian Barber\n",
       "12         Brandon Obray\n",
       "13        Cyrus Thiedeke\n",
       "14    Gary Joseph Thorup\n",
       "15          Leonard Zola\n",
       "16           Lloyd Berry\n",
       "17       Malcolm Stewart\n",
       "18       Annabel Kershaw\n",
       "19      Darryl Henriques\n",
       "20        Robyn Driscoll\n",
       "21          Peter Bryant\n",
       "22          Sarah Gilson\n",
       "23          Florica Vlad\n",
       "24             June Lion\n",
       "25     Brenda Lockmuller\n",
       "dtype: object"
      ]
     },
     "execution_count": 20,
     "metadata": {},
     "output_type": "execute_result"
    }
   ],
   "source": [
    "pd.Series(eval(credits.cast.loc[1])).apply(lambda x:x['name'])"
   ]
  }
 ],
 "metadata": {
  "kernelspec": {
   "display_name": "Python 3",
   "language": "python",
   "name": "python3"
  },
  "language_info": {
   "codemirror_mode": {
    "name": "ipython",
    "version": 3
   },
   "file_extension": ".py",
   "mimetype": "text/x-python",
   "name": "python",
   "nbconvert_exporter": "python",
   "pygments_lexer": "ipython3",
   "version": "3.6.9"
  }
 },
 "nbformat": 4,
 "nbformat_minor": 4
}
